{
 "cells": [
  {
   "cell_type": "markdown",
   "metadata": {},
   "source": [
    "<h1><center>Suggestion Engine for Ghana Tourist Site Attraction </center></h1> "
   ]
  },
  {
   "cell_type": "markdown",
   "metadata": {},
   "source": [
    "<h2><center>Emmanuel Acheampong</center></h2>"
   ]
  },
  {
   "cell_type": "markdown",
   "metadata": {},
   "source": [
    "<h3><center>March 03,  2019</center></h3>"
   ]
  },
  {
   "cell_type": "markdown",
   "metadata": {},
   "source": [
    "<img src=\"2.jpg\">"
   ]
  },
  {
   "cell_type": "markdown",
   "metadata": {},
   "source": [
    "## 1. Introduction\n",
    "\n",
    "### 1.1 Background\n",
    "Ghana, the beautiful West African country is well known for its tourist attraction sites. It has become one of the world's favorite tourist destinations in Africa. In fact, Tourism is one of the main factors of the economy of Ghana  and it is a source of foreign exchange. \n",
    "\n",
    "Being able to find which places that will be most beneficial to visit as a tourist is an integral part of making any tourist visit great however, it is sometimes difficult for a person to find a conclusive visual presentation of what they want to see with locations on the map and data regarding the various sites and it's surroundings. \n",
    "\n",
    "The various sites can be categorized into groups that will make the identification of which group of sites that a tourist can visit easier."
   ]
  },
  {
   "cell_type": "markdown",
   "metadata": {},
   "source": [
    "### 1.2 Problem\n",
    "\n",
    "It is possible to use data such as the longitudes and latitudes of these sites to plot a visual representation of where they are on the Ghana map to make planning trips to Ghana easier. It can also help to spot what various places like restaurants, clubs, and other exciting places are around these sites which will make it easier for a tourist to select which sites to see. The data again allows a way to group the sites into categories as well and recommend which sites a customer would enjoy based on the category they select."
   ]
  },
  {
   "cell_type": "markdown",
   "metadata": {},
   "source": [
    "### 1.3 Interest\n",
    "\n",
    "Obviously, the Ghana government particularly the minstry of tourism  would be very interested in finding a way to make Ghana a more attractive destination for travellers all around the world.\n",
    "\n",
    "Again people who love travelling would also be interested in finding a way to make their planning more easier and cohesive."
   ]
  },
  {
   "cell_type": "markdown",
   "metadata": {},
   "source": [
    "## 2. Data acquisition and cleaning\n",
    "\n",
    "### 2.1 Data sources\n",
    "\n",
    "It is a bit difficult to find a conclusive place to scrape online data regarding Most of the longitudes and latitudes of the sites can be found on Wikipedia, however some of them could not and the rest can be found on Google Maps.\n",
    "\n",
    "I decided to use 20 of the top sites to make the project more comprehensive.\n",
    "\n",
    "The data about the surrounding venues can be found using the Foursquare API. "
   ]
  },
  {
   "cell_type": "markdown",
   "metadata": {},
   "source": [
    "### 2.2 Data cleaning\n",
    " \n",
    "With the scrapped data of the longitude and latitude, more data is needed which are then organized into columns named:\n",
    "1. 'Site', which refers to the name of the site\n",
    "2. 'Type', which refers to the category of the site\n",
    "3. 'Region', which refers to the location of the site\n",
    "4. 'Latitude', which refers to the latitude of the location\n",
    "5. 'Longitude', which refers to the longitude of the location\n",
    "6. 'Comments', which refers to the short statements about the location"
   ]
  },
  {
   "cell_type": "code",
   "execution_count": 5,
   "metadata": {},
   "outputs": [
    {
     "data": {
      "text/html": [
       "<div>\n",
       "<style scoped>\n",
       "    .dataframe tbody tr th:only-of-type {\n",
       "        vertical-align: middle;\n",
       "    }\n",
       "\n",
       "    .dataframe tbody tr th {\n",
       "        vertical-align: top;\n",
       "    }\n",
       "\n",
       "    .dataframe thead th {\n",
       "        text-align: right;\n",
       "    }\n",
       "</style>\n",
       "<table border=\"1\" class=\"dataframe\">\n",
       "  <thead>\n",
       "    <tr style=\"text-align: right;\">\n",
       "      <th></th>\n",
       "      <th>Site</th>\n",
       "      <th>Type</th>\n",
       "      <th>Region</th>\n",
       "      <th>Latitude</th>\n",
       "      <th>Longitude</th>\n",
       "      <th>Comments</th>\n",
       "    </tr>\n",
       "  </thead>\n",
       "  <tbody>\n",
       "    <tr>\n",
       "      <th>0</th>\n",
       "      <td>Owabi Wildlife Sanctuary</td>\n",
       "      <td>Animal Santuary</td>\n",
       "      <td>Ashanti Region</td>\n",
       "      <td>6.751843</td>\n",
       "      <td>-1.710017</td>\n",
       "      <td>Owabi Wildlife Sanctuary is a bird sanctuary, ...</td>\n",
       "    </tr>\n",
       "    <tr>\n",
       "      <th>1</th>\n",
       "      <td>Digya National Park</td>\n",
       "      <td>National Park</td>\n",
       "      <td>Brong-Ahafo Region</td>\n",
       "      <td>7.416667</td>\n",
       "      <td>-0.283333</td>\n",
       "      <td>Digya National Park is the second largest nati...</td>\n",
       "    </tr>\n",
       "    <tr>\n",
       "      <th>2</th>\n",
       "      <td>Bui National Park</td>\n",
       "      <td>National Park</td>\n",
       "      <td>Brong-Ahafo Region</td>\n",
       "      <td>8.300000</td>\n",
       "      <td>-2.366667</td>\n",
       "      <td>Bui National Park is notable for its Hippopota...</td>\n",
       "    </tr>\n",
       "    <tr>\n",
       "      <th>3</th>\n",
       "      <td>Kakum National Park</td>\n",
       "      <td>National Park</td>\n",
       "      <td>Central Region</td>\n",
       "      <td>5.416667</td>\n",
       "      <td>-1.316667</td>\n",
       "      <td>Kakum National Park is one of only 3 locations...</td>\n",
       "    </tr>\n",
       "    <tr>\n",
       "      <th>4</th>\n",
       "      <td>Aburi Botanical Gardens</td>\n",
       "      <td>National Park</td>\n",
       "      <td>Eastern Region</td>\n",
       "      <td>5.866667</td>\n",
       "      <td>-0.183333</td>\n",
       "      <td>Aburi Botanical Gardens is a botanical garden ...</td>\n",
       "    </tr>\n",
       "    <tr>\n",
       "      <th>5</th>\n",
       "      <td>Umbrella Rock</td>\n",
       "      <td>Natural Heritage Site</td>\n",
       "      <td>Eastern Region</td>\n",
       "      <td>6.158306</td>\n",
       "      <td>-0.199128</td>\n",
       "      <td>The Umbrella Rock, as the name means, is a roc...</td>\n",
       "    </tr>\n",
       "    <tr>\n",
       "      <th>6</th>\n",
       "      <td>Boti falls</td>\n",
       "      <td>Natural Heritage Site</td>\n",
       "      <td>Eastern Region</td>\n",
       "      <td>6.193000</td>\n",
       "      <td>0.216600</td>\n",
       "      <td>Boti falls is a twin waterfall located at Boti...</td>\n",
       "    </tr>\n",
       "    <tr>\n",
       "      <th>7</th>\n",
       "      <td>Shai Hills Resource Reserve</td>\n",
       "      <td>Natural Heritage Site</td>\n",
       "      <td>Greater Accra Region</td>\n",
       "      <td>5.909409</td>\n",
       "      <td>0.065348</td>\n",
       "      <td>Shai Hills Resource Reserve is a resource rese...</td>\n",
       "    </tr>\n",
       "    <tr>\n",
       "      <th>8</th>\n",
       "      <td>Mole National Park</td>\n",
       "      <td>National Park</td>\n",
       "      <td>Northern Region</td>\n",
       "      <td>9.700000</td>\n",
       "      <td>-1.833333</td>\n",
       "      <td>Mole National Park is Ghana's largest wildlife...</td>\n",
       "    </tr>\n",
       "    <tr>\n",
       "      <th>9</th>\n",
       "      <td>Mount Afadjato</td>\n",
       "      <td>Natural Heritage Site</td>\n",
       "      <td>Volta Region</td>\n",
       "      <td>7.144308</td>\n",
       "      <td>0.352275</td>\n",
       "      <td>Mount Afadja is one of the highest mountains i...</td>\n",
       "    </tr>\n",
       "    <tr>\n",
       "      <th>10</th>\n",
       "      <td>Wli waterfalls</td>\n",
       "      <td>Natural Heritage Site</td>\n",
       "      <td>Volta Region</td>\n",
       "      <td>7.124751</td>\n",
       "      <td>0.591844</td>\n",
       "      <td>Wli Waterfalls is the highest waterfall in Gha...</td>\n",
       "    </tr>\n",
       "    <tr>\n",
       "      <th>11</th>\n",
       "      <td>Keta Lagoon</td>\n",
       "      <td>Natural Heritage Site</td>\n",
       "      <td>Volta Region</td>\n",
       "      <td>5.887900</td>\n",
       "      <td>0.826700</td>\n",
       "      <td>Keta Lagoon, also called Anlo-Keta lagoon, is ...</td>\n",
       "    </tr>\n",
       "    <tr>\n",
       "      <th>12</th>\n",
       "      <td>Bia National Park</td>\n",
       "      <td>National Park</td>\n",
       "      <td>Western Region</td>\n",
       "      <td>6.083333</td>\n",
       "      <td>-3.100000</td>\n",
       "      <td>Bia National Park is a national park in the We...</td>\n",
       "    </tr>\n",
       "    <tr>\n",
       "      <th>13</th>\n",
       "      <td>Nini Suhien National Park</td>\n",
       "      <td>National Park</td>\n",
       "      <td>Western Region</td>\n",
       "      <td>5.266667</td>\n",
       "      <td>-2.566667</td>\n",
       "      <td>Nini Suhien National Park is part of the 500-s...</td>\n",
       "    </tr>\n",
       "    <tr>\n",
       "      <th>14</th>\n",
       "      <td>Nzulezo</td>\n",
       "      <td>Natural Heritage Site</td>\n",
       "      <td>Western Region</td>\n",
       "      <td>5.020800</td>\n",
       "      <td>-2.597900</td>\n",
       "      <td>The village of Nzulezo is located near the vil...</td>\n",
       "    </tr>\n",
       "    <tr>\n",
       "      <th>15</th>\n",
       "      <td>Cape Coast Castle</td>\n",
       "      <td>Castle</td>\n",
       "      <td>Central Region</td>\n",
       "      <td>5.103333</td>\n",
       "      <td>-1.242500</td>\n",
       "      <td>Cape Coast Castle is one of about forty \"slave...</td>\n",
       "    </tr>\n",
       "    <tr>\n",
       "      <th>16</th>\n",
       "      <td>Fort Patience</td>\n",
       "      <td>Castle</td>\n",
       "      <td>Central Region</td>\n",
       "      <td>5.286000</td>\n",
       "      <td>-0.728100</td>\n",
       "      <td>Fort Patience is a Dutch-built fort located in...</td>\n",
       "    </tr>\n",
       "    <tr>\n",
       "      <th>17</th>\n",
       "      <td>Fort Amsterdam</td>\n",
       "      <td>Castle</td>\n",
       "      <td>Central Region</td>\n",
       "      <td>5.192222</td>\n",
       "      <td>-1.093056</td>\n",
       "      <td>Fort Amsterdam is a fort in Kormantin, Central...</td>\n",
       "    </tr>\n",
       "    <tr>\n",
       "      <th>18</th>\n",
       "      <td>Elmina Castle</td>\n",
       "      <td>Castle</td>\n",
       "      <td>Central Region</td>\n",
       "      <td>5.082600</td>\n",
       "      <td>-1.348100</td>\n",
       "      <td>Elmina Castle was the first trading post built...</td>\n",
       "    </tr>\n",
       "    <tr>\n",
       "      <th>19</th>\n",
       "      <td>Wassa Domama rock shrine</td>\n",
       "      <td>Natural Heritage Site</td>\n",
       "      <td>Brong-Ahafo Region</td>\n",
       "      <td>7.267100</td>\n",
       "      <td>-2.867700</td>\n",
       "      <td>Wassa Domama rock shrine is an awe-inspiring n...</td>\n",
       "    </tr>\n",
       "  </tbody>\n",
       "</table>\n",
       "</div>"
      ],
      "text/plain": [
       "                           Site                   Type                Region  \\\n",
       "0      Owabi Wildlife Sanctuary        Animal Santuary        Ashanti Region   \n",
       "1           Digya National Park          National Park    Brong-Ahafo Region   \n",
       "2             Bui National Park          National Park    Brong-Ahafo Region   \n",
       "3           Kakum National Park          National Park        Central Region   \n",
       "4       Aburi Botanical Gardens          National Park        Eastern Region   \n",
       "5                 Umbrella Rock  Natural Heritage Site        Eastern Region   \n",
       "6                    Boti falls  Natural Heritage Site        Eastern Region   \n",
       "7   Shai Hills Resource Reserve  Natural Heritage Site  Greater Accra Region   \n",
       "8            Mole National Park          National Park       Northern Region   \n",
       "9                Mount Afadjato  Natural Heritage Site          Volta Region   \n",
       "10               Wli waterfalls  Natural Heritage Site          Volta Region   \n",
       "11                  Keta Lagoon  Natural Heritage Site          Volta Region   \n",
       "12            Bia National Park          National Park        Western Region   \n",
       "13    Nini Suhien National Park          National Park        Western Region   \n",
       "14                      Nzulezo  Natural Heritage Site        Western Region   \n",
       "15            Cape Coast Castle                 Castle        Central Region   \n",
       "16                Fort Patience                 Castle        Central Region   \n",
       "17               Fort Amsterdam                 Castle        Central Region   \n",
       "18                Elmina Castle                 Castle        Central Region   \n",
       "19     Wassa Domama rock shrine  Natural Heritage Site    Brong-Ahafo Region   \n",
       "\n",
       "    Latitude  Longitude                                           Comments  \n",
       "0   6.751843  -1.710017  Owabi Wildlife Sanctuary is a bird sanctuary, ...  \n",
       "1   7.416667  -0.283333  Digya National Park is the second largest nati...  \n",
       "2   8.300000  -2.366667  Bui National Park is notable for its Hippopota...  \n",
       "3   5.416667  -1.316667  Kakum National Park is one of only 3 locations...  \n",
       "4   5.866667  -0.183333  Aburi Botanical Gardens is a botanical garden ...  \n",
       "5   6.158306  -0.199128  The Umbrella Rock, as the name means, is a roc...  \n",
       "6   6.193000   0.216600  Boti falls is a twin waterfall located at Boti...  \n",
       "7   5.909409   0.065348  Shai Hills Resource Reserve is a resource rese...  \n",
       "8   9.700000  -1.833333  Mole National Park is Ghana's largest wildlife...  \n",
       "9   7.144308   0.352275  Mount Afadja is one of the highest mountains i...  \n",
       "10  7.124751   0.591844  Wli Waterfalls is the highest waterfall in Gha...  \n",
       "11  5.887900   0.826700  Keta Lagoon, also called Anlo-Keta lagoon, is ...  \n",
       "12  6.083333  -3.100000  Bia National Park is a national park in the We...  \n",
       "13  5.266667  -2.566667  Nini Suhien National Park is part of the 500-s...  \n",
       "14  5.020800  -2.597900  The village of Nzulezo is located near the vil...  \n",
       "15  5.103333  -1.242500  Cape Coast Castle is one of about forty \"slave...  \n",
       "16  5.286000  -0.728100  Fort Patience is a Dutch-built fort located in...  \n",
       "17  5.192222  -1.093056  Fort Amsterdam is a fort in Kormantin, Central...  \n",
       "18  5.082600  -1.348100  Elmina Castle was the first trading post built...  \n",
       "19  7.267100  -2.867700  Wassa Domama rock shrine is an awe-inspiring n...  "
      ]
     },
     "execution_count": 5,
     "metadata": {},
     "output_type": "execute_result"
    }
   ],
   "source": [
    "import pandas as pd\n",
    "\n",
    "df = pd.read_csv('ghana.csv')\n",
    "df"
   ]
  },
  {
   "cell_type": "markdown",
   "metadata": {},
   "source": [
    "## 3. Methodology\n",
    "\n",
    "\n",
    "After the data is collected, cleaned and organized, we try to plot the longititude and latitude data of the locations on a geographic map with Folium map. We set the starting longitude and latitude, the magnitude of the zoom and even the tile type. \n",
    "We then plot all the locations on the Folium map with pop ups which provide all information about the various sites.\n",
    "\n",
    "We again use the same information to plot out 2 other different maps with different tiles mulitple visualizations, bring the total map types to 3.\n",
    "\n",
    "After that, we call the FourSquare API with our unique credentials to find locations and venues surrounding our sites and put that information in a JSON file. We then group the data in the JSON file into various columns and create a dataframe for them.\n",
    "\n",
    "The data of the surronding locations are then organized, grouped and plotted on another geographic map.\n",
    "\n",
    "We then apply the K-Means clustering algorithm to the data set. However, since the dataset is small, it is not very effective.\n",
    "\n",
    "Finally, there's a little Python script that allows a user to input the type of site they want to see which returns sites on the Map of the particular category of tourist attraction sites, they want to see with pictures of them"
   ]
  },
  {
   "cell_type": "markdown",
   "metadata": {},
   "source": [
    "## 4. Results \n",
    "\n",
    "### Below are pictures of the graphs and other results of the project"
   ]
  },
  {
   "cell_type": "markdown",
   "metadata": {},
   "source": [
    "#### The Maps Generated from the project\n"
   ]
  },
  {
   "cell_type": "markdown",
   "metadata": {},
   "source": [
    "<img src=\"1.PNG\">"
   ]
  },
  {
   "cell_type": "markdown",
   "metadata": {},
   "source": [
    "<img src=\"2.PNG\">"
   ]
  },
  {
   "cell_type": "markdown",
   "metadata": {},
   "source": [
    "<img src=\"3.PNG\">"
   ]
  },
  {
   "cell_type": "markdown",
   "metadata": {},
   "source": [
    "#### Some of the beautiful sites in the project"
   ]
  },
  {
   "cell_type": "markdown",
   "metadata": {},
   "source": [
    "<img src=\"3.jpg\">\n",
    "<img src=\"4.jpg\">\n",
    "<img src=\"5.jpg\">\n",
    "<img src=\"6.jpg\">\n",
    "<img src=\"6a.jpg\">"
   ]
  },
  {
   "cell_type": "markdown",
   "metadata": {},
   "source": [
    "#### Results of the data scrapped from the FourSquare API\n",
    "\n",
    "<img src=\"4.PNG\">\n",
    "<img src=\"5.PNG\">\n"
   ]
  },
  {
   "cell_type": "markdown",
   "metadata": {},
   "source": [
    "## 5. Discussion\n",
    "\n",
    "The main point of discussion is the inability of the k-Means algorithm to not be efficient due to the fact that the dataset is too small.\n",
    "\n",
    "Again as a result of the uniqueness of the project, there was not really a conclusive dataset and finding data was a bit of a challenge.\n",
    "\n",
    "However in spite of all these challenges, this project was the most impactful of my career so far and allowed me to explore my interests in data as well as my love for my country.\n",
    "\n",
    "This project was the first time I used the Folium and FourSquare API and it provided a way for me to understand Python APIS even further"
   ]
  },
  {
   "cell_type": "markdown",
   "metadata": {},
   "source": [
    "## 6. Conclusion\n",
    "\n",
    "I really enjoyed this project and hope to keep working on bringing the project to life."
   ]
  },
  {
   "cell_type": "code",
   "execution_count": null,
   "metadata": {},
   "outputs": [],
   "source": []
  },
  {
   "cell_type": "code",
   "execution_count": null,
   "metadata": {},
   "outputs": [],
   "source": []
  }
 ],
 "metadata": {
  "kernelspec": {
   "display_name": "Python 3",
   "language": "python",
   "name": "python3"
  },
  "language_info": {
   "codemirror_mode": {
    "name": "ipython",
    "version": 3
   },
   "file_extension": ".py",
   "mimetype": "text/x-python",
   "name": "python",
   "nbconvert_exporter": "python",
   "pygments_lexer": "ipython3",
   "version": "3.7.0"
  }
 },
 "nbformat": 4,
 "nbformat_minor": 2
}
