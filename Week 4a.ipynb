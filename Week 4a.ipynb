{
 "cells": [
  {
   "cell_type": "markdown",
   "metadata": {},
   "source": [
    "<h1><center>Suggestion Engine for Ghana Tourist Site Attraction </center></h1> \n"
   ]
  },
  {
   "cell_type": "markdown",
   "metadata": {},
   "source": [
    "<h2><center>Emmanuel Acheampong</center></h2>"
   ]
  },
  {
   "cell_type": "markdown",
   "metadata": {},
   "source": [
    "<img src=\"2.jpg\">"
   ]
  },
  {
   "cell_type": "markdown",
   "metadata": {},
   "source": [
    "## Part 1: Problem Description\n",
    "\n",
    "### 1.1 Background"
   ]
  },
  {
   "cell_type": "markdown",
   "metadata": {},
   "source": [
    "Ghana, the beautiful West African country is well known for its tourist attraction sites. It has become one of the world's favorite tourist destinations in Africa. In fact, Tourism is one of the main factors of the economy of Ghana  and it is a source of foreign exchange. \n",
    "\n",
    "Being able to find which places that will be most beneficial to visit as a tourist is an integral part of making any tourist visit great however, it is sometimes difficult for a person to find a conclusive visual presentation of what they want to see with locations on the map and data regarding the various sites and it's surroundings. \n",
    "\n",
    "The various sites can be categorized into groups that will make the identification of which group of sites that a tourist can visit easier."
   ]
  },
  {
   "cell_type": "markdown",
   "metadata": {},
   "source": [
    "### 1.2 Problem\n",
    "\n",
    "It is possible to use data such as the longitudes and latitudes of these sites to plot a visual representation of where they are on the Ghana map to make planning trips to Ghana easier. It can also help to spot what various places like restaurants, clubs, and other exciting places are around these sites which will make it easier for a tourist to select which sites to see. The data again allows a way to group the sites into categories as well and recommend which sites a customer would enjoy based on the category they select."
   ]
  },
  {
   "cell_type": "markdown",
   "metadata": {},
   "source": [
    "### 1.3 Interest\n",
    "\n",
    "Obviously, the Ghana government particularly the minstry of tourism  would be very interested in finding a way to make Ghana a more attractive destination for travellers all around the world.\n",
    "\n",
    "Again people who love travelling would also be interested in finding a way to make their planning more easier and cohesive."
   ]
  },
  {
   "cell_type": "code",
   "execution_count": null,
   "metadata": {},
   "outputs": [],
   "source": []
  }
 ],
 "metadata": {
  "kernelspec": {
   "display_name": "Python 3",
   "language": "python",
   "name": "python3"
  },
  "language_info": {
   "codemirror_mode": {
    "name": "ipython",
    "version": 3
   },
   "file_extension": ".py",
   "mimetype": "text/x-python",
   "name": "python",
   "nbconvert_exporter": "python",
   "pygments_lexer": "ipython3",
   "version": "3.7.0"
  }
 },
 "nbformat": 4,
 "nbformat_minor": 2
}
